{
 "cells": [
  {
   "cell_type": "code",
   "execution_count": 1,
   "metadata": {},
   "outputs": [],
   "source": [
    "import pandas as pd\n",
    "from os import listdir\n",
    "import numpy as np\n"
   ]
  },
  {
   "cell_type": "code",
   "execution_count": 2,
   "metadata": {},
   "outputs": [],
   "source": [
    "import sklearn.metrics.pairwise\n",
    "from sklearn.preprocessing import StandardScaler\n",
    "\n",
    "from sklearn.decomposition import PCA\n",
    "\n",
    "from sklearn.manifold import TSNE\n",
    "import umap\n",
    "import phate\n",
    "\n",
    "from sklearn.cluster import KMeans\n",
    "from sklearn.cluster import AgglomerativeClustering\n",
    "from sklearn.cluster import DBSCAN\n",
    "\n",
    "from sklearn.metrics.cluster import adjusted_rand_score"
   ]
  },
  {
   "cell_type": "code",
   "execution_count": 3,
   "metadata": {},
   "outputs": [],
   "source": [
    "import matplotlib.pyplot as plt\n",
    "%matplotlib inline"
   ]
  },
  {
   "cell_type": "code",
   "execution_count": null,
   "metadata": {},
   "outputs": [],
   "source": []
  },
  {
   "cell_type": "code",
   "execution_count": 4,
   "metadata": {},
   "outputs": [],
   "source": [
    "#PREPROCESSING:"
   ]
  },
  {
   "cell_type": "code",
   "execution_count": 5,
   "metadata": {},
   "outputs": [],
   "source": [
    "temp = pd.read_feather('sample_var_phenos_leuk_topmed_v2.feather').set_index('sampleID').drop(columns=[\n",
    "                                                                                                'CHIP_Gene', \n",
    "                                                                                                'AD', \n",
    "                                                                                                'AgeAt_All_Pneumonia', \n",
    "                                                                                                'AF', \n",
    "                                                                                                'Incd_Hypertension', \n",
    "                                                                                                'id'])"
   ]
  },
  {
   "cell_type": "code",
   "execution_count": null,
   "metadata": {},
   "outputs": [],
   "source": [
    "#Check NAN values in all phenotypes:\n",
    "i = -63\n",
    "for nan  in temp.isna().sum().to_list()[-63:]:\n",
    "    print(temp.columns[i], nan) #nan counts\n",
    "    i += 1\n",
    "    \n",
    "del i"
   ]
  },
  {
   "cell_type": "code",
   "execution_count": 6,
   "metadata": {},
   "outputs": [],
   "source": [
    "temp = temp.drop(columns=[\n",
    "    'age',\n",
    "    'age2',\n",
    "    'PC1',\n",
    "    'PC2',\n",
    "    'PC3',\n",
    "    'PC4',\n",
    "    'PC5',\n",
    "    'PC6',\n",
    "    'PC7',\n",
    "    'PC8',\n",
    "    'PC9',\n",
    "    'PC10',\n",
    "    'Prev_Coronary_Artery_Disease_SOFT',\n",
    "    'Incd_Coronary_Artery_Disease_SOFT',\n",
    "    'Coronary_Artery_Disease_SOFT_FollowUp',\n",
    "    'Death',\n",
    "    'Prev_Death',\n",
    "    'Incd_Death',\n",
    "    'Death_FollowUp',\n",
    "    'Diabetes_All',\n",
    "    'Prev_Diabetes_All',\n",
    "    'Incd_Diabetes_All',\n",
    "    'Diabetes_All_FollowUp',\n",
    "    'Prev_Diabetes_Type_1',\n",
    "    'Incd_Diabetes_Type_1',\n",
    "    'Diabetes_Type_1_FollowUp',\n",
    "    'Prev_Diabetes_Type_2',\n",
    "    'Incd_Diabetes_Type_2',\n",
    "    'Diabetes_Type_2_FollowUp',\n",
    "    'Prev_Heart_Failure',\n",
    "    'Incd_Heart_Failure',\n",
    "    'Heart_Failure_FollowUp',\n",
    "    'Prev_Hypercholesterolemia',\n",
    "    'Incd_Hypercholesterolemia',\n",
    "    'Hypercholesterolemia_FollowUp',\n",
    "    'Prev_Hypertension',\n",
    "    'Hypertension_FollowUp',\n",
    "    'Prev_AML',\n",
    "    'Incd_AML',\n",
    "    'AML_FollowUp',\n",
    "    'Prev_MPN',\n",
    "    'Incd_MPN',\n",
    "    'MPN_FollowUp',\n",
    "    'Incd_All_Pneumonia',\n",
    "    'All_Pneumonia_FollowUp',\n",
    "    'Prev_All_Pneumonia',\n",
    "    'Platelet count',\n",
    "    'Platelet crit',\n",
    "    'Mean platelet volume',\n",
    "    'Platelet distribution width']).dropna()"
   ]
  },
  {
   "cell_type": "code",
   "execution_count": 7,
   "metadata": {},
   "outputs": [],
   "source": [
    "phenotypes = temp[[\n",
    "                    'Hypercholesterolemia',\n",
    "                    'Hypertension',\n",
    "                    'hasCHIP',\n",
    "                    'AML',\n",
    "                    'MPN',\n",
    "                    'All_Pneumonia',\n",
    "                    'Sex_numeric',\n",
    "                    'SmokingStatus',\n",
    "                    'ever_smoked',\n",
    "                    'Coronary_Artery_Disease_SOFT',\n",
    "                    'Diabetes_Type_1',\n",
    "                    'Diabetes_Type_2',\n",
    "                    'Heart_Failure']]\n",
    "\n",
    "data = temp.drop(columns=[\n",
    "                            'Hypercholesterolemia',\n",
    "                            'Hypertension',\n",
    "                            'hasCHIP',\n",
    "                            'AML',\n",
    "                            'MPN',\n",
    "                            'All_Pneumonia',\n",
    "                            'Sex_numeric',\n",
    "                            'SmokingStatus',\n",
    "                            'ever_smoked',\n",
    "                            'Coronary_Artery_Disease_SOFT',\n",
    "                            'Diabetes_Type_1',\n",
    "                            'Diabetes_Type_2',\n",
    "                            'Heart_Failure'])\n",
    "del temp"
   ]
  },
  {
   "cell_type": "code",
   "execution_count": null,
   "metadata": {},
   "outputs": [],
   "source": [
    "jaccard = sklearn.metrics.pairwise_distances(data.values, metric='jaccard', n_jobs=-1)"
   ]
  },
  {
   "cell_type": "code",
   "execution_count": null,
   "metadata": {},
   "outputs": [],
   "source": []
  },
  {
   "cell_type": "code",
   "execution_count": null,
   "metadata": {},
   "outputs": [],
   "source": [
    "#VISUALISATION:"
   ]
  },
  {
   "cell_type": "code",
   "execution_count": 9,
   "metadata": {},
   "outputs": [],
   "source": [
    "#PCA without data normalization\n",
    "#not using phenotypes for my clustering methods, instead using them as labels\n",
    "scaler = StandardScaler()\n",
    "data_scaled = scaler.fit_transform(data)\n",
    "pca_scaled = PCA()\n",
    "X_pca_scaled = pca_scaled.fit_transform(data_scaled)"
   ]
  },
  {
   "cell_type": "code",
   "execution_count": null,
   "metadata": {},
   "outputs": [],
   "source": []
  },
  {
   "cell_type": "code",
   "execution_count": 10,
   "metadata": {},
   "outputs": [
    {
     "data": {
      "text/plain": [
       "[<matplotlib.lines.Line2D at 0x1c223a2050>]"
      ]
     },
     "execution_count": 10,
     "metadata": {},
     "output_type": "execute_result"
    },
    {
     "data": {
      "image/png": "[encoded data removed]",
      "text/plain": [
       "<Figure size 432x288 with 1 Axes>"
      ]
     },
     "metadata": {
      "needs_background": "light"
     },
     "output_type": "display_data"
    }
   ],
   "source": [
    "#Adjust number of PCs used in the future analyses according to this graph:\n",
    "plt.plot(np.cumsum(pca_scaled.explained_variance_ratio_))"
   ]
  },
  {
   "cell_type": "code",
   "execution_count": 11,
   "metadata": {},
   "outputs": [
    {
     "data": {
      "text/plain": [
       "0.9538674498788412"
      ]
     },
     "execution_count": 11,
     "metadata": {},
     "output_type": "execute_result"
    }
   ],
   "source": [
    "sum(pca_scaled.explained_variance_ratio_[0:1800])"
   ]
  },
  {
   "cell_type": "code",
   "execution_count": 12,
   "metadata": {},
   "outputs": [
    {
     "data": {
      "image/png": "[encoded data removed]",
      "text/plain": [
       "<Figure size 432x288 with 1 Axes>"
      ]
     },
     "metadata": {
      "needs_background": "light"
     },
     "output_type": "display_data"
    },
    {
     "data": {
      "image/png": "[encoded data removed]",
      "text/plain": [
       "<Figure size 432x288 with 1 Axes>"
      ]
     },
     "metadata": {
      "needs_background": "light"
     },
     "output_type": "display_data"
    },
    {
     "data": {
      "image/png": "[encoded data removed]",
      "text/plain": [
       "<Figure size 432x288 with 1 Axes>"
      ]
     },
     "metadata": {
      "needs_background": "light"
     },
     "output_type": "display_data"
    },
    {
     "data": {
      "image/png": "[encoded data removed]",
      "text/plain": [
       "<Figure size 432x288 with 1 Axes>"
      ]
     },
     "metadata": {
      "needs_background": "light"
     },
     "output_type": "display_data"
    },
    {
     "data": {
      "image/png": "[encoded data removed]",
      "text/plain": [
       "<Figure size 432x288 with 1 Axes>"
      ]
     },
     "metadata": {
      "needs_background": "light"
     },
     "output_type": "display_data"
    },
    {
     "data": {
      "image/png": "[encoded data removed]",
      "text/plain": [
       "<Figure size 432x288 with 1 Axes>"
      ]
     },
     "metadata": {
      "needs_background": "light"
     },
     "output_type": "display_data"
    },
    {
     "data": {
      "image/png": "[encoded data removed]",
      "text/plain": [
       "<Figure size 432x288 with 1 Axes>"
      ]
     },
     "metadata": {
      "needs_background": "light"
     },
     "output_type": "display_data"
    },
    {
     "data": {
      "image/png": "[encoded data removed]",
      "text/plain": [
       "<Figure size 432x288 with 1 Axes>"
      ]
     },
     "metadata": {
      "needs_background": "light"
     },
     "output_type": "display_data"
    },
    {
     "data": {
      "image/png": "[encoded data removed]",
      "text/plain": [
       "<Figure size 432x288 with 1 Axes>"
      ]
     },
     "metadata": {
      "needs_background": "light"
     },
     "output_type": "display_data"
    },
    {
     "data": {
      "image/png": "[encoded data removed]",
      "text/plain": [
       "<Figure size 432x288 with 1 Axes>"
      ]
     },
     "metadata": {
      "needs_background": "light"
     },
     "output_type": "display_data"
    },
    {
     "data": {
      "image/png": "[encoded data removed]",
      "text/plain": [
       "<Figure size 432x288 with 1 Axes>"
      ]
     },
     "metadata": {
      "needs_background": "light"
     },
     "output_type": "display_data"
    },
    {
     "data": {
      "image/png": "[encoded data removed]",
      "text/plain": [
       "<Figure size 432x288 with 1 Axes>"
      ]
     },
     "metadata": {
      "needs_background": "light"
     },
     "output_type": "display_data"
    },
    {
     "data": {
      "image/png": "[encoded data removed]",
      "text/plain": [
       "<Figure size 432x288 with 1 Axes>"
      ]
     },
     "metadata": {
      "needs_background": "light"
     },
     "output_type": "display_data"
    }
   ],
   "source": [
    "#Plot PC0 vs PC1 -- can play with other PCs:\n",
    "for phenotype in phenotypes.columns:\n",
    "    plt.figure()\n",
    "    plt.scatter(X_pca_scaled[:, 0], X_pca_scaled[:, 1], c=phenotypes[phenotype], s=50, alpha=.4) #s = size, alpha = transparency \n",
    "    plt.xlabel(phenotype + \" PCA feature 0\")\n",
    "    plt.ylabel(\"PCA feature 1\")\n",
    "    # Show/save figure as desired.\n",
    "    plt.show()\n",
    "# Can show all four figures at once by calling plt.show() here, outside the loop.\n",
    "#plt.show()"
   ]
  },
  {
   "cell_type": "code",
   "execution_count": null,
   "metadata": {},
   "outputs": [],
   "source": [
    "#If necessary, use only a portion of the data:\n",
    "# reduced_pca = np.vstack((X_pca_scaled[phenotypes.hasCHIP == 1], X_pca_scaled[phenotypes.hasCHIP == 0][0:9000,:]))\n",
    "# reduced_pca_notsc = np.vstack((X_pca[phenotypes.hasCHIP == 1], X_pca[phenotypes.hasCHIP == 0][0:9000,:]))\n",
    "#replace data.hasCHIP by phenotype of interest and adjust 9000 to some other number"
   ]
  },
  {
   "cell_type": "code",
   "execution_count": null,
   "metadata": {},
   "outputs": [],
   "source": [
    " "
   ]
  },
  {
   "cell_type": "code",
   "execution_count": null,
   "metadata": {},
   "outputs": [],
   "source": [
    "#T-SNE:\n",
    "tsne = TSNE(random_state=42, n_components=2, metric='jaccard')\n",
    "tsne_data = tsne.fit_transform(data)#adjust '1900' according to the # of PCs you are using; use reduced_pca[:, 0:1900] instead if using only a slice of the data"
   ]
  },
  {
   "cell_type": "code",
   "execution_count": null,
   "metadata": {},
   "outputs": [],
   "source": [
    "#T-SNE:\n",
    "tsne = TSNE(random_state=42, n_components=2)\n",
    "tsne_data = tsne.fit_transform(data_scaled)#adjust '1900' according to the # of PCs you are using; use reduced_pca[:, 0:1900] instead if using only a slice of the data"
   ]
  },
  {
   "cell_type": "code",
   "execution_count": null,
   "metadata": {},
   "outputs": [],
   "source": [
    "for phenotype in phenotypes:\n",
    "    plt.figure(figsize=(10, 10))\n",
    "    plt.xlim(tsne_data[:, 0].min(), tsne_data[:, 0].max() + 1) #decrease '1' if the graph looks empty\n",
    "    plt.ylim(tsne_data[:, 1].min(), tsne_data[:, 1].max() + 1)\n",
    "\n",
    "    plt.scatter(tsne_data[:, 0], tsne_data[:, 1], c=phenotypes[phenotype], s=4, alpha=.5) #s = size, alpha = transparency \n",
    "    plt.xlabel(phenotype + \" t-SNE feature 0\")\n",
    "    plt.ylabel(\"t-SNE feature 1\")\n",
    "    # Show/save figure as desired.\n",
    "    plt.show()\n",
    "# Can show all four figures at once by calling plt.show() here, outside the loop.\n",
    "#plt.show()"
   ]
  },
  {
   "cell_type": "code",
   "execution_count": null,
   "metadata": {},
   "outputs": [],
   "source": []
  },
  {
   "cell_type": "code",
   "execution_count": null,
   "metadata": {},
   "outputs": [],
   "source": [
    "#UMAP\n",
    "reducer = umap.UMAP(random_state=42, metric='jaccard')\n",
    "embedding = reducer.fit_transform(data) "
   ]
  },
  {
   "cell_type": "code",
   "execution_count": null,
   "metadata": {},
   "outputs": [],
   "source": [
    "for phenotype in phenotypes.columns:\n",
    "    plt.figure()\n",
    "    plt.scatter(embedding[:, 0], embedding[:, 1], c=phenotypes[phenotype], s=2, alpha=.4)\n",
    "    plt.xlabel(phenotype + \" feature 0\")\n",
    "    plt.ylabel(\"feature 1\")\n",
    "    # Show/save figure as desired.\n",
    "    plt.show()\n",
    "# Can show all four figures at once by calling plt.show() here, outside the loop.\n",
    "#plt.show()"
   ]
  },
  {
   "cell_type": "code",
   "execution_count": null,
   "metadata": {},
   "outputs": [],
   "source": []
  },
  {
   "cell_type": "code",
   "execution_count": null,
   "metadata": {},
   "outputs": [],
   "source": [
    "#PHATE:\n",
    "phate_op = phate.PHATE(n_jobs=-1, knn_dist='jaccard', mds_dist='jaccard') #adjust the num of PCs according to the variance covered#T-SNE:\n",
    "data_phate = phate_op.fit_transform(data)"
   ]
  },
  {
   "cell_type": "code",
   "execution_count": null,
   "metadata": {},
   "outputs": [],
   "source": [
    "for phenotype in phenotypes:\n",
    "    phate.plot.scatter2d(data_phate, c=phenotypes[phenotype], s=10, alpha=.3)"
   ]
  },
  {
   "cell_type": "code",
   "execution_count": null,
   "metadata": {},
   "outputs": [],
   "source": []
  },
  {
   "cell_type": "code",
   "execution_count": null,
   "metadata": {},
   "outputs": [],
   "source": []
  },
  {
   "cell_type": "code",
   "execution_count": null,
   "metadata": {},
   "outputs": [],
   "source": [
    "#CLUSTERING"
   ]
  },
  {
   "cell_type": "code",
   "execution_count": null,
   "metadata": {},
   "outputs": [],
   "source": [
    "#Kmeans:\n",
    "kmeans = KMeans(n_jobs=-1) #can play with n_clusters= and max_iter=; default is 8 and 300 respectively\n",
    "kmeans.fit(data) #adjust 1900 to number of PCs#T-SNE:\n",
    "#means.fit(jaccard)"
   ]
  },
  {
   "cell_type": "code",
   "execution_count": null,
   "metadata": {},
   "outputs": [],
   "source": [
    "(unique, counts) = np.unique(kmeans.labels_, return_counts=True)\n",
    "frequencies = np.asarray((unique, counts)).T\n",
    "frequencies"
   ]
  },
  {
   "cell_type": "code",
   "execution_count": null,
   "metadata": {},
   "outputs": [],
   "source": [
    "plt.figure()\n",
    "plt.scatter(tsne_data[:, 0], tsne_data[:, 1], c=kmeans.labels_, s=2, alpha=.4) #or try t-sne/UMAP \n",
    "plt.show()"
   ]
  },
  {
   "cell_type": "code",
   "execution_count": null,
   "metadata": {},
   "outputs": [],
   "source": [
    "print(\"Hypercholesterolemia= \", adjusted_rand_score(phenotypes.Hypercholesterolemia == 1, kmeans.labels_))  \n",
    "print(\"CHIP= \", adjusted_rand_score(phenotypes.hasCHIP == 1, kmeans.labels_))\n",
    "print(\"Hypertension= \", adjusted_rand_score(phenotypes.Hypertension == 1, kmeans.labels_))\n",
    "print(\"AML= \", adjusted_rand_score(phenotypes.AML == 1, kmeans.labels_))\n",
    "print(\"Hypertension= \", adjusted_rand_score(phenotypes.Hypertension == 1, kmeans.labels_))\n",
    "print(\"MPN= \", adjusted_rand_score(phenotypes.MPN == 1, kmeans.labels_))\n",
    "print(\"All_Pneumonia= \", adjusted_rand_score(phenotypes.All_Pneumonia == 1, kmeans.labels_))\n",
    "print(\"SmokingStatus= \", adjusted_rand_score(phenotypes.SmokingStatus == 1, kmeans.labels_))\n",
    "print(\"Coronary_Artery_Disease_SOFT= \", adjusted_rand_score(phenotypes.Coronary_Artery_Disease_SOFT == 1, kmeans.labels_))\n",
    "print(\"Diabetes_Type_1= \", adjusted_rand_score(phenotypes.Diabetes_Type_1 == 1, kmeans.labels_))\n",
    "print(\"Diabetes_Type_2= \", adjusted_rand_score(phenotypes.Diabetes_Type_2 == 1, kmeans.labels_))\n",
    "print(\"Heart_Failure= \", adjusted_rand_score(phenotypes.Heart_Failure == 1, kmeans.labels_))"
   ]
  },
  {
   "cell_type": "code",
   "execution_count": null,
   "metadata": {},
   "outputs": [],
   "source": []
  },
  {
   "cell_type": "code",
   "execution_count": null,
   "metadata": {},
   "outputs": [],
   "source": [
    "#Agglomerative-Ward\n",
    "agg = AgglomerativeClustering() #can play with (e.g., n_clusters=2); default is 8\n",
    "assignment = agg.fit_predict(data) #adjust 1900 to number of PCs#T-SNE:\n",
    "# assignment = agg.fit_predict(jaccard) #adjust 1900 to number of PCs#T-SNE:"
   ]
  },
  {
   "cell_type": "code",
   "execution_count": null,
   "metadata": {},
   "outputs": [],
   "source": [
    "(unique, counts) = np.unique(assignment, return_counts=True)\n",
    "frequencies = np.asarray((unique, counts)).T\n",
    "frequencies"
   ]
  },
  {
   "cell_type": "code",
   "execution_count": null,
   "metadata": {},
   "outputs": [],
   "source": [
    "plt.figure()\n",
    "plt.scatter(tsne_data[:, 0], tsne_data[:, 1], c=assignment, s=2, alpha=.4)\n",
    "plt.show()"
   ]
  },
  {
   "cell_type": "code",
   "execution_count": null,
   "metadata": {},
   "outputs": [],
   "source": [
    "print(\"Hypercholesterolemia= \", adjusted_rand_score(phenotypes.Hypercholesterolemia == 1, assignment))   \n",
    "print(\"CHIP= \", adjusted_rand_score(phenotypes.hasCHIP == 1, assignment))\n",
    "print(\"Hypertension= \", adjusted_rand_score(phenotypes.Hypertension == 1, assignment))\n",
    "print(\"AML= \", adjusted_rand_score(phenotypes.AML == 1, assignment))\n",
    "print(\"Hypertension= \", adjusted_rand_score(phenotypes.Hypertension == 1, assignment))\n",
    "print(\"MPN= \", adjusted_rand_score(phenotypes.MPN == 1, clusters))\n",
    "print(\"All_Pneumonia= \", adjusted_rand_score(phenotypes.All_Pneumonia == 1, assignment))\n",
    "print(\"SmokingStatus= \", adjusted_rand_score(phenotypes.SmokingStatus == 1, assignment))\n",
    "print(\"Coronary_Artery_Disease_SOFT= \", adjusted_rand_score(phenotypes.Coronary_Artery_Disease_SOFT == 1, assignment))\n",
    "print(\"Diabetes_Type_1= \", adjusted_rand_score(phenotypes.Diabetes_Type_1 == 1, assignment))\n",
    "print(\"Diabetes_Type_2= \", adjusted_rand_score(phenotypes.Diabetes_Type_2 == 1, assignment))\n",
    "print(\"Heart_Failure= \", adjusted_rand_score(phenotypes.Heart_Failure == 1, assignment))"
   ]
  },
  {
   "cell_type": "code",
   "execution_count": null,
   "metadata": {},
   "outputs": [],
   "source": []
  },
  {
   "cell_type": "code",
   "execution_count": null,
   "metadata": {},
   "outputs": [],
   "source": [
    "#Agglomerative-Complete\n",
    "agg = AgglomerativeClustering(linkage=\"complete\", affinity='precomputed') #can play with (e.g., n_clusters=2); default is 8\n",
    "assignment = agg.fit_predict(jaccard) #adjust 1900 to number of PCs#T-SNE:"
   ]
  },
  {
   "cell_type": "code",
   "execution_count": null,
   "metadata": {},
   "outputs": [],
   "source": [
    "(unique, counts) = np.unique(assignment, return_counts=True)\n",
    "frequencies = np.asarray((unique, counts)).T\n",
    "frequencies"
   ]
  },
  {
   "cell_type": "code",
   "execution_count": null,
   "metadata": {},
   "outputs": [],
   "source": [
    "plt.figure()\n",
    "plt.scatter(tsne_data[:, 0], tsne_data[:, 1], c=assignment, s=2, alpha=.4)\n",
    "plt.show()"
   ]
  },
  {
   "cell_type": "code",
   "execution_count": null,
   "metadata": {},
   "outputs": [],
   "source": [
    "print(\"Hypercholesterolemia= \", adjusted_rand_score(phenotypes.Hypercholesterolemia == 1, assignment)) \n",
    "print(\"CHIP= \", adjusted_rand_score(phenotypes.hasCHIP == 1, assignment))\n",
    "print(\"Hypertension= \", adjusted_rand_score(phenotypes.Hypertension == 1, assignment))\n",
    "print(\"AML= \", adjusted_rand_score(phenotypes.AML == 1, assignment))\n",
    "print(\"Hypertension= \", adjusted_rand_score(phenotypes.Hypertension == 1, assignment))\n",
    "print(\"MPN= \", adjusted_rand_score(phenotypes.MPN == 1, clusters))\n",
    "print(\"All_Pneumonia= \", adjusted_rand_score(phenotypes.All_Pneumonia == 1, assignment))\n",
    "print(\"SmokingStatus= \", adjusted_rand_score(phenotypes.SmokingStatus == 1, assignment))\n",
    "print(\"Coronary_Artery_Disease_SOFT= \", adjusted_rand_score(phenotypes.Coronary_Artery_Disease_SOFT == 1, assignment))\n",
    "print(\"Diabetes_Type_1= \", adjusted_rand_score(phenotypes.Diabetes_Type_1 == 1, assignment))\n",
    "print(\"Diabetes_Type_2= \", adjusted_rand_score(phenotypes.Diabetes_Type_2 == 1, assignment))\n",
    "print(\"Heart_Failure= \", adjusted_rand_score(phenotypes.Heart_Failure == 1, assignment))"
   ]
  },
  {
   "cell_type": "code",
   "execution_count": null,
   "metadata": {},
   "outputs": [],
   "source": []
  },
  {
   "cell_type": "code",
   "execution_count": null,
   "metadata": {},
   "outputs": [],
   "source": [
    "#Agglomerative-Average\n",
    "agg = AgglomerativeClustering(linkage=\"average\", affinity='precomputed') #can play with (e.g., n_clusters=2); default is 8\n",
    "assignment = agg.fit_predict(jaccard) #adjust 1900 to number of PCs#T-SNE:"
   ]
  },
  {
   "cell_type": "code",
   "execution_count": null,
   "metadata": {},
   "outputs": [],
   "source": [
    "(unique, counts) = np.unique(assignment, return_counts=True)\n",
    "frequencies = np.asarray((unique, counts)).T\n",
    "frequencies"
   ]
  },
  {
   "cell_type": "code",
   "execution_count": null,
   "metadata": {},
   "outputs": [],
   "source": [
    "plt.figure()\n",
    "plt.scatter(tsne_data[:, 0], tsne_data[:, 1], c=assignment, s=2, alpha=.4)\n",
    "plt.show()"
   ]
  },
  {
   "cell_type": "code",
   "execution_count": null,
   "metadata": {},
   "outputs": [],
   "source": [
    "print(\"Hypercholesterolemia= \", adjusted_rand_score(phenotypes.Hypercholesterolemia == 1, assignment)) \n",
    "print(\"CHIP= \", adjusted_rand_score(phenotypes.hasCHIP == 1, assignment))\n",
    "print(\"Hypertension= \", adjusted_rand_score(phenotypes.Hypertension == 1, assignment))\n",
    "print(\"AML= \", adjusted_rand_score(phenotypes.AML == 1, assignment))\n",
    "print(\"Hypertension= \", adjusted_rand_score(phenotypes.Hypertension == 1, assignment))\n",
    "print(\"MPN= \", adjusted_rand_score(phenotypes.MPN == 1, clusters))\n",
    "print(\"All_Pneumonia= \", adjusted_rand_score(phenotypes.All_Pneumonia == 1, assignment))\n",
    "print(\"SmokingStatus= \", adjusted_rand_score(phenotypes.SmokingStatus == 1, assignment))\n",
    "print(\"Coronary_Artery_Disease_SOFT= \", adjusted_rand_score(phenotypes.Coronary_Artery_Disease_SOFT == 1, assignment))\n",
    "print(\"Diabetes_Type_1= \", adjusted_rand_score(phenotypes.Diabetes_Type_1 == 1, assignment))\n",
    "print(\"Diabetes_Type_2= \", adjusted_rand_score(phenotypes.Diabetes_Type_2 == 1, assignment))\n",
    "print(\"Heart_Failure= \", adjusted_rand_score(phenotypes.Heart_Failure == 1, assignment))"
   ]
  },
  {
   "cell_type": "code",
   "execution_count": null,
   "metadata": {},
   "outputs": [],
   "source": []
  },
  {
   "cell_type": "code",
   "execution_count": null,
   "metadata": {},
   "outputs": [],
   "source": [
    "#DBSCAN:\n",
    "dbscan = DBSCAN(n_jobs=-1, metric='jaccard')\n",
    "clusters = dbscan.fit_predict(X_pca_scaled[:, 0:1900]) #adjust '1900' according to the # of PCs you are using; use reduced_pca[:, 0:1900] instead if using only a slice of the data"
   ]
  },
  {
   "cell_type": "code",
   "execution_count": null,
   "metadata": {},
   "outputs": [],
   "source": [
    "(unique, counts) = np.unique(clusters, return_counts=True)\n",
    "frequencies = np.asarray((unique, counts)).T\n",
    "frequencies"
   ]
  },
  {
   "cell_type": "code",
   "execution_count": null,
   "metadata": {},
   "outputs": [],
   "source": [
    "plt.figure()\n",
    "plt.scatter(tsne_data[:, 0], tsne_data[:, 1], c=clusters, s=2, alpha=.4)\n",
    "plt.show()"
   ]
  },
  {
   "cell_type": "code",
   "execution_count": null,
   "metadata": {},
   "outputs": [],
   "source": [
    "print(\"Hypercholesterolemia= \", adjusted_rand_score(phenotypes.Hypercholesterolemia == 1, clusters))   \n",
    "print(\"CHIP= \", adjusted_rand_score(phenotypes.hasCHIP == 1, clusters))\n",
    "print(\"Hypertension= \", adjusted_rand_score(phenotypes.Hypertension == 1, clusters))\n",
    "print(\"AML= \", adjusted_rand_score(phenotypes.AML == 1, clusters))\n",
    "print(\"Hypertension= \", adjusted_rand_score(phenotypes.Hypertension == 1, clusters))\n",
    "print(\"MPN= \", adjusted_rand_score(phenotypes.MPN == 1, clusters))\n",
    "print(\"All_Pneumonia= \", adjusted_rand_score(phenotypes.All_Pneumonia == 1, clusters))\n",
    "print(\"SmokingStatus= \", adjusted_rand_score(phenotypes.SmokingStatus == 1, clusters))\n",
    "print(\"Coronary_Artery_Disease_SOFT= \", adjusted_rand_score(phenotypes.Coronary_Artery_Disease_SOFT == 1, clusters))\n",
    "print(\"Diabetes_Type_1= \", adjusted_rand_score(phenotypes.Diabetes_Type_1 == 1, clusters))\n",
    "print(\"Diabetes_Type_2= \", adjusted_rand_score(phenotypes.Diabetes_Type_2 == 1, clusters))\n",
    "print(\"Heart_Failure= \", adjusted_rand_score(phenotypes.Heart_Failure == 1, clusters))"
   ]
  },
  {
   "cell_type": "code",
   "execution_count": null,
   "metadata": {},
   "outputs": [],
   "source": []
  },
  {
   "cell_type": "code",
   "execution_count": null,
   "metadata": {},
   "outputs": [],
   "source": [
    "# #COMPARE CLUSTERING ALGOS:\n",
    "# fig, axes = plt.subplots(1, 6, figsize=(15, 3),\n",
    "#                          subplot_kw={'xticks': (), 'yticks': ()})\n",
    "\n",
    "# # make a list of algorithms to use\n",
    "# algorithms = [KMeans(n_jobs=-1, n_clusters=2), \n",
    "#               AgglomerativeClustering(n_clusters=2), \n",
    "#               AgglomerativeClustering(n_clusters=2, linkage=\"complete\"),\n",
    "#               AgglomerativeClustering(n_clusters=2, linkage=\"average\"),\n",
    "#               DBSCAN()]\n",
    "\n",
    "# # create a random cluster assignment for reference\n",
    "# random_state = np.random.RandomState(seed=0)\n",
    "# random_clusters = random_state.randint(low=0, high=2, size=len(data))\n",
    "\n",
    "# # plot random assignment\n",
    "# axes[0].scatter(data_phate[:, 0], data_phate[:, 1], c=random_clusters, s=60)#use the best vis. techniq (e.g, UMAP, PHATE, t-sne instead of PCs)\n",
    "# axes[0].set_title(\"Random assignment - ARI: {:.2f}\".format(adjusted_rand_score(phenotypes.hasCHIP == 1, random_clusters)))\n",
    "\n",
    "# for ax, algorithm in zip(axes[1:], algorithms):\n",
    "#     # plot the cluster assignments and cluster centers\n",
    "#     clusters = algorithm.fit_predict(X_pca_scaled[:, 0:1900])#adjust '1900' according to the # of PCs you are using; use reduced_pca[:, 0:1900] instead if using only a slice of the data\n",
    "#     ax.scatter(data_phate[:, 0], data_phate[:, 1], c=clusters, s=1)#use the best vis. techniq (e.g, UMAP, PHATE, t-sne instead of PCs)\n",
    "#     ax.set_title(\"{}={:.2f}\".format(algorithm.__class__.__name__, adjusted_rand_score(phenotypes.hasCHIP == 1, clusters)))\n",
    "    \n",
    "#     print(\"{}; Hypercholesterolemia={:.2f}\".format(algorithm.__class__.__name__, adjusted_rand_score(phenotypes.Hypercholesterolemia == 1, clusters)))    \n",
    "#     print(\"{}; Hypertension={:.2f}\".format(algorithm.__class__.__name__, adjusted_rand_score(phenotypes.Hypertension == 1, clusters)))\n",
    "#     print(\"{}; AML={:.2f}\".format(algorithm.__class__.__name__, adjusted_rand_score(phenotypes.AML == 1, clusters)))\n",
    "#     print(\"{}; Hypertension={:.2f}\".format(algorithm.__class__.__name__, adjusted_rand_score(phenotypes.Hypertension == 1, clusters)))\n",
    "#     print(\"{}; MPN={:.2f}\".format(algorithm.__class__.__name__, adjusted_rand_score(phenotypes.MPN == 1, clusters)))\n",
    "#     print(\"{}; All_Pneumonia={:.2f}\".format(algorithm.__class__.__name__, adjusted_rand_score(phenotypes.All_Pneumonia == 1, clusters)))\n",
    "#     print(\"{}; SmokingStatus={:.2f}\".format(algorithm.__class__.__name__, adjusted_rand_score(phenotypes.SmokingStatus == 1, clusters)))\n",
    "#     print(\"{}; Coronary_Artery_Disease_SOFT={:.2f}\".format(algorithm.__class__.__name__, adjusted_rand_score(phenotypes.Coronary_Artery_Disease_SOFT == 1, clusters)))\n",
    "#     print(\"{}; Diabetes_Type_1={:.2f}\".format(algorithm.__class__.__name__, adjusted_rand_score(phenotypes.Diabetes_Type_1 == 1, clusters)))\n",
    "#     print(\"{}; Diabetes_Type_2={:.2f}\".format(algorithm.__class__.__name__, adjusted_rand_score(phenotypes.Diabetes_Type_2 == 1, clusters)))\n",
    "#     print(\"{}; Heart_Failure={:.2f}\".format(algorithm.__class__.__name__, adjusted_rand_score(phenotypes.Heart_Failure == 1, clusters)))                                               "
   ]
  }
 ],
 "metadata": {
  "kernelspec": {
   "display_name": "Python [conda env:root] *",
   "language": "python",
   "name": "conda-root-py"
  },
  "language_info": {
   "codemirror_mode": {
    "name": "ipython",
    "version": 3
   },
   "file_extension": ".py",
   "mimetype": "text/x-python",
   "name": "python",
   "nbconvert_exporter": "python",
   "pygments_lexer": "ipython3",
   "version": "3.7.5"
  }
 },
 "nbformat": 4,
 "nbformat_minor": 2
}
